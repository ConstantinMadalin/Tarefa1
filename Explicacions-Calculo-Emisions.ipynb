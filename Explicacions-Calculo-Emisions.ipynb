{
 "cells": [
  {
   "cell_type": "markdown",
   "id": "74190620-7d18-4b9d-a535-ef8bf7fba55e",
   "metadata": {},
   "source": [
    "    ##4.1-Un primeiro bloque en linguaxe markdown cun título 1 que indique nunha frase o que fai o script.\n",
    "\n",
    "O script calcula las emisiones que gastamos en el dia y en la semana con nuestro coche o moto."
   ]
  },
  {
   "cell_type": "markdown",
   "id": "f58a6458-6b9d-4ca1-bf48-071ffa013ab4",
   "metadata": {},
   "source": [
    "    ##4.2-Un segundo bloque en linguaxe markdown de texto plano que explique o script.\n",
    "    \n",
    "O script calcula las emisiones que gastamos en el dia y en la semana con nuestro coche o moto.\n"
   ]
  },
  {
   "cell_type": "code",
   "execution_count": 1,
   "id": "408c99b5-3a03-43ae-888a-6b3103780339",
   "metadata": {},
   "outputs": [
    {
     "name": "stdout",
     "output_type": "stream",
     "text": [
      "O teu consumo é: 0 gC02\n"
     ]
    }
   ],
   "source": [
    "##4.3-Un bloque de código co script anterior (copia e pega).\n",
    "\n",
    "#!/usr/bin/env python\n",
    "\n",
    "# Cálculo de emisións\n",
    "\n",
    "# Variables\n",
    "KMS_DIARIOS = 0\n",
    "DIAS_LABORAIS_SEMANAIS = 0\n",
    "SEMANAS = 0\n",
    "\n",
    "# Cada medio de transporte ten o seu índice de emisións medio (gramos por km)\n",
    "# https://www.movilidad-idae.es/destacados/emisiones-de-co2-por-modos-de-transporte-motorizado\n",
    "EMISION_X_KM = 121\n",
    "\n",
    "cantidade_de_emisions = KMS_DIARIOS * DIAS_LABORAIS_SEMANAIS * SEMANAS * EMISION_X_KM\n",
    "print('O teu consumo é:', cantidade_de_emisions, 'gC02')\n"
   ]
  },
  {
   "cell_type": "code",
   "execution_count": 2,
   "id": "00dd52be-9568-4040-8c64-8fe193dc15da",
   "metadata": {},
   "outputs": [
    {
     "name": "stdout",
     "output_type": "stream",
     "text": [
      "A emisión anual de CO2 é: 2904000 gCO2\n"
     ]
    }
   ],
   "source": [
    "##4.4-Modifica o script para realizar o cálculo de emisións anuais dunha persoa que viaxa en coche 100kms diarios, 5 días á semana durante 48 semanas do ano. Resultado? (captura de pantalla+texto)\n",
    "\n",
    "# Variables\n",
    "KMS_DIARIOS = 100  # Distancia diaria en km\n",
    "DIAS_LABORAIS_SEMANAIS = 5  # Días laborais por semana\n",
    "SEMANAS = 48  # Número de semanas ao ano\n",
    "\n",
    "# Emisións de CO2 por quilómetro (121 gCO2 por quilómetro)\n",
    "EMISION_X_KM = 121  # gCO2 por quilómetro\n",
    "\n",
    "# Cálculo da emisión de CO2 anual\n",
    "cantidade_de_emisions = KMS_DIARIOS * DIAS_LABORAIS_SEMANAIS * SEMANAS * EMISION_X_KM\n",
    "\n",
    "# Mostrar o resultado\n",
    "print('A emisión anual de CO2 é:', cantidade_de_emisions, 'gCO2')"
   ]
  },
  {
   "cell_type": "code",
   "execution_count": 3,
   "id": "6ac0f902-b304-4f86-8236-2d349fb9af32",
   "metadata": {},
   "outputs": [
    {
     "name": "stdout",
     "output_type": "stream",
     "text": [
      "A emisión anual de CO2 é: 144000 gCO2\n"
     ]
    }
   ],
   "source": [
    "    ##4.5-Modifica o script para realizar o cálculo de emisións anuais dunha persoa que viaxa en moto 20kms diarios, 3 días á semana, durante 40 semanas do ano. Resultado? (captura de pantalla+texto)\n",
    "\n",
    "# Variables\n",
    "KMS_DIARIOS = 20  # Distancia diaria en km\n",
    "DIAS_LABORAIS_SEMANAIS = 3  # Días laborais por semana\n",
    "SEMANAS = 40  # Número de semanas ao ano\n",
    "\n",
    "# Emisións de CO2 por quilómetro para unha moto (60 gCO2 por quilómetro, estimado)\n",
    "EMISION_X_KM = 60  # gCO2 por quilómetro\n",
    "\n",
    "# Cálculo da emisión de CO2 anual\n",
    "cantidade_de_emisions = KMS_DIARIOS * DIAS_LABORAIS_SEMANAIS * SEMANAS * EMISION_X_KM\n",
    "\n",
    "# Mostrar o resultado\n",
    "print('A emisión anual de CO2 é:', cantidade_de_emisions, 'gCO2')"
   ]
  },
  {
   "cell_type": "code",
   "execution_count": 4,
   "id": "0749c5ac-09e0-4d4b-a393-0b86686a0c10",
   "metadata": {},
   "outputs": [
    {
     "name": "stdout",
     "output_type": "stream",
     "text": [
      "Emisións anuais andando: 0 gCO2\n",
      "Emisións anuais en coche: 72600 gCO2\n",
      "Emisións anuais en moto: 36000 gCO2\n"
     ]
    }
   ],
   "source": [
    "##4.6-Calcula aproximadamente as \"túas emisións\" para desprazarte ao Wirtz durante todo o curso (aproxima a 24 semanas). Compara os resultados con diferentes medios de transporte. (captura de pantalla+texto)\n",
    "\n",
    "\n",
    "# Variables\n",
    "KMS_DIARIOS = 5  # Distancia diaria en km (andando, coche ou moto)\n",
    "DIAS_LABORAIS_SEMANAIS = 5  # Días laborais por semana\n",
    "SEMANAS = 24  # Número de semanas durante o curso\n",
    "\n",
    "# Emisións de CO2 por quilómetro para diferentes medios de transporte\n",
    "EMISION_COCHE_X_KM = 121  # gCO2 por quilómetro para coche\n",
    "EMISION_MOTO_X_KM = 60  # gCO2 por quilómetro para moto\n",
    "\n",
    "# Cálculo das emisións anuais para cada medio de transporte\n",
    "\n",
    "# Andar non emite CO2\n",
    "emisiones_andando = 0\n",
    "\n",
    "# Emisións para o coche\n",
    "emisiones_coche = KMS_DIARIOS * DIAS_LABORAIS_SEMANAIS * SEMANAS * EMISION_COCHE_X_KM\n",
    "\n",
    "# Emisións para a moto\n",
    "emisiones_moto = KMS_DIARIOS * DIAS_LABORAIS_SEMANAIS * SEMANAS * EMISION_MOTO_X_KM\n",
    "\n",
    "# Mostrar os resultados\n",
    "print(f'Emisións anuais andando: {emisiones_andando} gCO2')\n",
    "print(f'Emisións anuais en coche: {emisiones_coche} gCO2')\n",
    "print(f'Emisións anuais en moto: {emisiones_moto} gCO2')\n"
   ]
  },
  {
   "cell_type": "code",
   "execution_count": 8,
   "id": "ca1240b8-865c-4b72-9e0e-a79a163a8a27",
   "metadata": {},
   "outputs": [
    {
     "name": "stdout",
     "output_type": "stream",
     "text": [
      "Emisións anuais en coche: 72600 gCO2\n",
      "Emisións anuais en moto: 36000 gCO2\n",
      "Aforro en emisións ao cambiar de coche a moto: 36600 gCO2\n"
     ]
    }
   ],
   "source": [
    "##4.7-Modifica o código do notebook para que calcule o aforro en emisións para un caso definido ao mudar de medio de transporte. É dicir, dados kms, dias e semanas, indica a diferencia entre emisións usando dous medios diferentes.\n",
    "\n",
    "\n",
    "# Variables de entrada\n",
    "KMS_DIARIOS = 5  # Distancia diaria en km\n",
    "DIAS_LABORAIS_SEMANAIS = 5  # Días laborais por semana\n",
    "SEMANAS = 24  # Número de semanas durante o curso\n",
    "\n",
    "# Emisións de CO2 por quilómetro para diferentes medios de transporte\n",
    "EMISION_COCHE_X_KM = 121  # gCO2 por quilómetro para coche\n",
    "EMISION_MOTO_X_KM = 60  # gCO2 por quilómetro para moto\n",
    "\n",
    "# Cálculo das emisións anuais para cada medio de transporte\n",
    "emisiones_coche = KMS_DIARIOS * DIAS_LABORAIS_SEMANAIS * SEMANAS * EMISION_COCHE_X_KM\n",
    "emisiones_moto = KMS_DIARIOS * DIAS_LABORAIS_SEMANAIS * SEMANAS * EMISION_MOTO_X_KM\n",
    "\n",
    "# Calcular o aforro de emisións ao cambiar de coche a moto\n",
    "aforro_emisiones = emisiones_coche - emisiones_moto\n",
    "\n",
    "# Mostrar os resultados\n",
    "print(f'Emisións anuais en coche: {emisiones_coche} gCO2')\n",
    "print(f'Emisións anuais en moto: {emisiones_moto} gCO2')\n",
    "print(f'Aforro en emisións ao cambiar de coche a moto: {aforro_emisiones} gCO2')"
   ]
  },
  {
   "cell_type": "code",
   "execution_count": null,
   "id": "273fdede-42aa-41d0-a50f-50e8867137d1",
   "metadata": {},
   "outputs": [],
   "source": []
  }
 ],
 "metadata": {
  "kernelspec": {
   "display_name": "Python 3 (ipykernel)",
   "language": "python",
   "name": "python3"
  },
  "language_info": {
   "codemirror_mode": {
    "name": "ipython",
    "version": 3
   },
   "file_extension": ".py",
   "mimetype": "text/x-python",
   "name": "python",
   "nbconvert_exporter": "python",
   "pygments_lexer": "ipython3",
   "version": "3.11.8"
  }
 },
 "nbformat": 4,
 "nbformat_minor": 5
}
